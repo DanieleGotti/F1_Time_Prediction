{
 "cells": [
  {
   "cell_type": "markdown",
   "id": "74b82403",
   "metadata": {},
   "source": [
    "# Data Preparation"
   ]
  },
  {
   "cell_type": "markdown",
   "id": "ee514314",
   "metadata": {},
   "source": [
    "This code starts from the file _dataset_original.csv_ and outputs the dataset _dataset_final.csv_."
   ]
  },
  {
   "cell_type": "markdown",
   "id": "92b29064",
   "metadata": {},
   "source": [
    "---"
   ]
  },
  {
   "cell_type": "markdown",
   "id": "ac188c13",
   "metadata": {},
   "source": [
    "### Dataset import\n",
    "\n",
    "The original dataset is imported to inspect the data."
   ]
  },
  {
   "cell_type": "code",
   "execution_count": 1,
   "id": "c10a4429",
   "metadata": {},
   "outputs": [],
   "source": [
    "import pandas as pd\n",
    "import seaborn as sns\n",
    "import matplotlib.pyplot as plt\n",
    "import numpy as np"
   ]
  },
  {
   "cell_type": "code",
   "execution_count": 2,
   "id": "86fbba34",
   "metadata": {},
   "outputs": [
    {
     "data": {
      "text/html": [
       "<div>\n",
       "<style scoped>\n",
       "    .dataframe tbody tr th:only-of-type {\n",
       "        vertical-align: middle;\n",
       "    }\n",
       "\n",
       "    .dataframe tbody tr th {\n",
       "        vertical-align: top;\n",
       "    }\n",
       "\n",
       "    .dataframe thead th {\n",
       "        text-align: right;\n",
       "    }\n",
       "</style>\n",
       "<table border=\"1\" class=\"dataframe\">\n",
       "  <thead>\n",
       "    <tr style=\"text-align: right;\">\n",
       "      <th></th>\n",
       "      <th>Time</th>\n",
       "      <th>Driver</th>\n",
       "      <th>DriverNumber</th>\n",
       "      <th>LapTime</th>\n",
       "      <th>LapNumber</th>\n",
       "      <th>Stint</th>\n",
       "      <th>PitOutTime</th>\n",
       "      <th>PitInTime</th>\n",
       "      <th>Sector1Time</th>\n",
       "      <th>Sector2Time</th>\n",
       "      <th>Sector3Time</th>\n",
       "      <th>Sector1SessionTime</th>\n",
       "      <th>Sector2SessionTime</th>\n",
       "      <th>Sector3SessionTime</th>\n",
       "      <th>SpeedI1</th>\n",
       "      <th>SpeedI2</th>\n",
       "      <th>SpeedFL</th>\n",
       "      <th>SpeedST</th>\n",
       "      <th>IsPersonalBest</th>\n",
       "      <th>Compound</th>\n",
       "      <th>TyreLife</th>\n",
       "      <th>FreshTyre</th>\n",
       "      <th>Team</th>\n",
       "      <th>LapStartTime</th>\n",
       "      <th>LapStartDate</th>\n",
       "      <th>TrackStatus</th>\n",
       "      <th>Position</th>\n",
       "      <th>Deleted</th>\n",
       "      <th>DeletedReason</th>\n",
       "      <th>FastF1Generated</th>\n",
       "      <th>IsAccurate</th>\n",
       "      <th>RoundNumber</th>\n",
       "      <th>EventName</th>\n",
       "      <th>country</th>\n",
       "      <th>session</th>\n",
       "      <th>EventDate</th>\n",
       "      <th>eventYear</th>\n",
       "      <th>original_index</th>\n",
       "      <th>TimeWeather</th>\n",
       "      <th>AirTemp</th>\n",
       "      <th>Humidity</th>\n",
       "      <th>Pressure</th>\n",
       "      <th>Rainfall</th>\n",
       "      <th>TrackTemp</th>\n",
       "      <th>WindDirection</th>\n",
       "      <th>WindSpeed</th>\n",
       "    </tr>\n",
       "  </thead>\n",
       "  <tbody>\n",
       "    <tr>\n",
       "      <th>0</th>\n",
       "      <td>1274.563</td>\n",
       "      <td>VER</td>\n",
       "      <td>1</td>\n",
       "      <td>NaN</td>\n",
       "      <td>1.0</td>\n",
       "      <td>1.0</td>\n",
       "      <td>0 days 00:18:56.871000</td>\n",
       "      <td>NaN</td>\n",
       "      <td>NaN</td>\n",
       "      <td>0 days 00:01:09.383000</td>\n",
       "      <td>0 days 00:00:28.687000</td>\n",
       "      <td>NaN</td>\n",
       "      <td>0 days 00:20:46.104000</td>\n",
       "      <td>0 days 00:21:14.634000</td>\n",
       "      <td>106.0</td>\n",
       "      <td>157.0</td>\n",
       "      <td>280.0</td>\n",
       "      <td>187.0</td>\n",
       "      <td>False</td>\n",
       "      <td>MEDIUM</td>\n",
       "      <td>1.0</td>\n",
       "      <td>True</td>\n",
       "      <td>Red Bull Racing</td>\n",
       "      <td>0 days 00:18:56.871000</td>\n",
       "      <td>2023-03-03 11:33:59.758</td>\n",
       "      <td>1</td>\n",
       "      <td>NaN</td>\n",
       "      <td>False</td>\n",
       "      <td>NaN</td>\n",
       "      <td>False</td>\n",
       "      <td>False</td>\n",
       "      <td>1</td>\n",
       "      <td>Bahrain Grand Prix</td>\n",
       "      <td>Bahrain</td>\n",
       "      <td>FP1</td>\n",
       "      <td>2023-03-03 14:30:00+03:00</td>\n",
       "      <td>2023</td>\n",
       "      <td>0</td>\n",
       "      <td>1233.979</td>\n",
       "      <td>27.4</td>\n",
       "      <td>11.0</td>\n",
       "      <td>1017.2</td>\n",
       "      <td>False</td>\n",
       "      <td>41.6</td>\n",
       "      <td>352</td>\n",
       "      <td>2.7</td>\n",
       "    </tr>\n",
       "    <tr>\n",
       "      <th>1</th>\n",
       "      <td>1369.992</td>\n",
       "      <td>VER</td>\n",
       "      <td>1</td>\n",
       "      <td>0 days 00:01:35.429000</td>\n",
       "      <td>2.0</td>\n",
       "      <td>1.0</td>\n",
       "      <td>NaN</td>\n",
       "      <td>NaN</td>\n",
       "      <td>0 days 00:00:30.535000</td>\n",
       "      <td>0 days 00:00:41.153000</td>\n",
       "      <td>0 days 00:00:23.741000</td>\n",
       "      <td>0 days 00:21:45.098000</td>\n",
       "      <td>0 days 00:22:26.251000</td>\n",
       "      <td>0 days 00:22:49.992000</td>\n",
       "      <td>235.0</td>\n",
       "      <td>265.0</td>\n",
       "      <td>280.0</td>\n",
       "      <td>314.0</td>\n",
       "      <td>True</td>\n",
       "      <td>MEDIUM</td>\n",
       "      <td>2.0</td>\n",
       "      <td>True</td>\n",
       "      <td>Red Bull Racing</td>\n",
       "      <td>0 days 00:21:14.563000</td>\n",
       "      <td>2023-03-03 11:36:17.450</td>\n",
       "      <td>1</td>\n",
       "      <td>NaN</td>\n",
       "      <td>False</td>\n",
       "      <td>NaN</td>\n",
       "      <td>False</td>\n",
       "      <td>True</td>\n",
       "      <td>1</td>\n",
       "      <td>Bahrain Grand Prix</td>\n",
       "      <td>Bahrain</td>\n",
       "      <td>FP1</td>\n",
       "      <td>2023-03-03 14:30:00+03:00</td>\n",
       "      <td>2023</td>\n",
       "      <td>1</td>\n",
       "      <td>1353.992</td>\n",
       "      <td>27.3</td>\n",
       "      <td>12.0</td>\n",
       "      <td>1017.4</td>\n",
       "      <td>False</td>\n",
       "      <td>41.4</td>\n",
       "      <td>345</td>\n",
       "      <td>2.2</td>\n",
       "    </tr>\n",
       "    <tr>\n",
       "      <th>2</th>\n",
       "      <td>1533.677</td>\n",
       "      <td>VER</td>\n",
       "      <td>1</td>\n",
       "      <td>NaN</td>\n",
       "      <td>3.0</td>\n",
       "      <td>1.0</td>\n",
       "      <td>NaN</td>\n",
       "      <td>0 days 00:25:31.880000</td>\n",
       "      <td>0 days 00:00:52.814000</td>\n",
       "      <td>0 days 00:01:12.105000</td>\n",
       "      <td>0 days 00:00:38.710000</td>\n",
       "      <td>0 days 00:23:43.022000</td>\n",
       "      <td>0 days 00:24:54.990000</td>\n",
       "      <td>0 days 00:25:33.677000</td>\n",
       "      <td>124.0</td>\n",
       "      <td>127.0</td>\n",
       "      <td>NaN</td>\n",
       "      <td>148.0</td>\n",
       "      <td>False</td>\n",
       "      <td>MEDIUM</td>\n",
       "      <td>3.0</td>\n",
       "      <td>True</td>\n",
       "      <td>Red Bull Racing</td>\n",
       "      <td>0 days 00:22:49.992000</td>\n",
       "      <td>2023-03-03 11:37:52.879</td>\n",
       "      <td>1</td>\n",
       "      <td>NaN</td>\n",
       "      <td>False</td>\n",
       "      <td>NaN</td>\n",
       "      <td>False</td>\n",
       "      <td>False</td>\n",
       "      <td>1</td>\n",
       "      <td>Bahrain Grand Prix</td>\n",
       "      <td>Bahrain</td>\n",
       "      <td>FP1</td>\n",
       "      <td>2023-03-03 14:30:00+03:00</td>\n",
       "      <td>2023</td>\n",
       "      <td>2</td>\n",
       "      <td>1474.006</td>\n",
       "      <td>27.3</td>\n",
       "      <td>12.0</td>\n",
       "      <td>1017.2</td>\n",
       "      <td>False</td>\n",
       "      <td>41.4</td>\n",
       "      <td>349</td>\n",
       "      <td>2.2</td>\n",
       "    </tr>\n",
       "    <tr>\n",
       "      <th>3</th>\n",
       "      <td>1699.697</td>\n",
       "      <td>VER</td>\n",
       "      <td>1</td>\n",
       "      <td>NaN</td>\n",
       "      <td>4.0</td>\n",
       "      <td>2.0</td>\n",
       "      <td>0 days 00:25:58.707000</td>\n",
       "      <td>NaN</td>\n",
       "      <td>0 days 00:01:09.699000</td>\n",
       "      <td>0 days 00:01:07.418000</td>\n",
       "      <td>0 days 00:00:28.889000</td>\n",
       "      <td>0 days 00:26:43.550000</td>\n",
       "      <td>0 days 00:27:50.877000</td>\n",
       "      <td>0 days 00:28:19.705000</td>\n",
       "      <td>138.0</td>\n",
       "      <td>192.0</td>\n",
       "      <td>282.0</td>\n",
       "      <td>144.0</td>\n",
       "      <td>False</td>\n",
       "      <td>MEDIUM</td>\n",
       "      <td>4.0</td>\n",
       "      <td>False</td>\n",
       "      <td>Red Bull Racing</td>\n",
       "      <td>0 days 00:25:33.677000</td>\n",
       "      <td>2023-03-03 11:40:36.564</td>\n",
       "      <td>1</td>\n",
       "      <td>NaN</td>\n",
       "      <td>False</td>\n",
       "      <td>NaN</td>\n",
       "      <td>False</td>\n",
       "      <td>False</td>\n",
       "      <td>1</td>\n",
       "      <td>Bahrain Grand Prix</td>\n",
       "      <td>Bahrain</td>\n",
       "      <td>FP1</td>\n",
       "      <td>2023-03-03 14:30:00+03:00</td>\n",
       "      <td>2023</td>\n",
       "      <td>3</td>\n",
       "      <td>1654.003</td>\n",
       "      <td>27.1</td>\n",
       "      <td>12.0</td>\n",
       "      <td>1017.4</td>\n",
       "      <td>False</td>\n",
       "      <td>41.2</td>\n",
       "      <td>338</td>\n",
       "      <td>2.5</td>\n",
       "    </tr>\n",
       "    <tr>\n",
       "      <th>4</th>\n",
       "      <td>1813.359</td>\n",
       "      <td>VER</td>\n",
       "      <td>1</td>\n",
       "      <td>0 days 00:01:53.662000</td>\n",
       "      <td>5.0</td>\n",
       "      <td>2.0</td>\n",
       "      <td>NaN</td>\n",
       "      <td>0 days 00:30:11.531000</td>\n",
       "      <td>0 days 00:00:30.271000</td>\n",
       "      <td>0 days 00:00:55.102000</td>\n",
       "      <td>0 days 00:00:28.289000</td>\n",
       "      <td>0 days 00:28:49.968000</td>\n",
       "      <td>0 days 00:29:45.070000</td>\n",
       "      <td>0 days 00:30:13.359000</td>\n",
       "      <td>233.0</td>\n",
       "      <td>228.0</td>\n",
       "      <td>NaN</td>\n",
       "      <td>316.0</td>\n",
       "      <td>False</td>\n",
       "      <td>MEDIUM</td>\n",
       "      <td>5.0</td>\n",
       "      <td>False</td>\n",
       "      <td>Red Bull Racing</td>\n",
       "      <td>0 days 00:28:19.697000</td>\n",
       "      <td>2023-03-03 11:43:22.584</td>\n",
       "      <td>1</td>\n",
       "      <td>NaN</td>\n",
       "      <td>False</td>\n",
       "      <td>NaN</td>\n",
       "      <td>False</td>\n",
       "      <td>False</td>\n",
       "      <td>1</td>\n",
       "      <td>Bahrain Grand Prix</td>\n",
       "      <td>Bahrain</td>\n",
       "      <td>FP1</td>\n",
       "      <td>2023-03-03 14:30:00+03:00</td>\n",
       "      <td>2023</td>\n",
       "      <td>4</td>\n",
       "      <td>1774.016</td>\n",
       "      <td>27.0</td>\n",
       "      <td>12.0</td>\n",
       "      <td>1017.2</td>\n",
       "      <td>False</td>\n",
       "      <td>41.1</td>\n",
       "      <td>10</td>\n",
       "      <td>2.2</td>\n",
       "    </tr>\n",
       "    <tr>\n",
       "      <th>5</th>\n",
       "      <td>2594.515</td>\n",
       "      <td>VER</td>\n",
       "      <td>1</td>\n",
       "      <td>NaN</td>\n",
       "      <td>6.0</td>\n",
       "      <td>3.0</td>\n",
       "      <td>0 days 00:40:46.535000</td>\n",
       "      <td>NaN</td>\n",
       "      <td>NaN</td>\n",
       "      <td>0 days 00:01:11.255000</td>\n",
       "      <td>0 days 00:00:34.098000</td>\n",
       "      <td>NaN</td>\n",
       "      <td>0 days 00:42:40.564000</td>\n",
       "      <td>0 days 00:43:14.595000</td>\n",
       "      <td>149.0</td>\n",
       "      <td>177.0</td>\n",
       "      <td>284.0</td>\n",
       "      <td>175.0</td>\n",
       "      <td>False</td>\n",
       "      <td>SOFT</td>\n",
       "      <td>1.0</td>\n",
       "      <td>True</td>\n",
       "      <td>Red Bull Racing</td>\n",
       "      <td>0 days 00:30:13.359000</td>\n",
       "      <td>2023-03-03 11:45:16.246</td>\n",
       "      <td>1</td>\n",
       "      <td>NaN</td>\n",
       "      <td>False</td>\n",
       "      <td>NaN</td>\n",
       "      <td>False</td>\n",
       "      <td>False</td>\n",
       "      <td>1</td>\n",
       "      <td>Bahrain Grand Prix</td>\n",
       "      <td>Bahrain</td>\n",
       "      <td>FP1</td>\n",
       "      <td>2023-03-03 14:30:00+03:00</td>\n",
       "      <td>2023</td>\n",
       "      <td>5</td>\n",
       "      <td>2554.064</td>\n",
       "      <td>27.1</td>\n",
       "      <td>13.0</td>\n",
       "      <td>1017.2</td>\n",
       "      <td>False</td>\n",
       "      <td>40.4</td>\n",
       "      <td>357</td>\n",
       "      <td>3.4</td>\n",
       "    </tr>\n",
       "    <tr>\n",
       "      <th>6</th>\n",
       "      <td>2687.890</td>\n",
       "      <td>VER</td>\n",
       "      <td>1</td>\n",
       "      <td>0 days 00:01:33.375000</td>\n",
       "      <td>7.0</td>\n",
       "      <td>3.0</td>\n",
       "      <td>NaN</td>\n",
       "      <td>NaN</td>\n",
       "      <td>0 days 00:00:29.507000</td>\n",
       "      <td>0 days 00:00:40.148000</td>\n",
       "      <td>0 days 00:00:23.720000</td>\n",
       "      <td>0 days 00:43:44.022000</td>\n",
       "      <td>0 days 00:44:24.170000</td>\n",
       "      <td>0 days 00:44:47.890000</td>\n",
       "      <td>238.0</td>\n",
       "      <td>267.0</td>\n",
       "      <td>284.0</td>\n",
       "      <td>317.0</td>\n",
       "      <td>True</td>\n",
       "      <td>SOFT</td>\n",
       "      <td>2.0</td>\n",
       "      <td>True</td>\n",
       "      <td>Red Bull Racing</td>\n",
       "      <td>0 days 00:43:14.515000</td>\n",
       "      <td>2023-03-03 11:58:17.402</td>\n",
       "      <td>1</td>\n",
       "      <td>NaN</td>\n",
       "      <td>False</td>\n",
       "      <td>NaN</td>\n",
       "      <td>False</td>\n",
       "      <td>True</td>\n",
       "      <td>1</td>\n",
       "      <td>Bahrain Grand Prix</td>\n",
       "      <td>Bahrain</td>\n",
       "      <td>FP1</td>\n",
       "      <td>2023-03-03 14:30:00+03:00</td>\n",
       "      <td>2023</td>\n",
       "      <td>6</td>\n",
       "      <td>2674.078</td>\n",
       "      <td>27.0</td>\n",
       "      <td>13.0</td>\n",
       "      <td>1017.2</td>\n",
       "      <td>False</td>\n",
       "      <td>40.3</td>\n",
       "      <td>21</td>\n",
       "      <td>2.5</td>\n",
       "    </tr>\n",
       "    <tr>\n",
       "      <th>7</th>\n",
       "      <td>2816.572</td>\n",
       "      <td>VER</td>\n",
       "      <td>1</td>\n",
       "      <td>0 days 00:02:08.682000</td>\n",
       "      <td>8.0</td>\n",
       "      <td>3.0</td>\n",
       "      <td>NaN</td>\n",
       "      <td>0 days 00:46:54.794000</td>\n",
       "      <td>0 days 00:00:38.151000</td>\n",
       "      <td>0 days 00:00:59.322000</td>\n",
       "      <td>0 days 00:00:31.209000</td>\n",
       "      <td>0 days 00:45:26.041000</td>\n",
       "      <td>0 days 00:46:25.363000</td>\n",
       "      <td>0 days 00:46:56.572000</td>\n",
       "      <td>158.0</td>\n",
       "      <td>174.0</td>\n",
       "      <td>NaN</td>\n",
       "      <td>214.0</td>\n",
       "      <td>False</td>\n",
       "      <td>SOFT</td>\n",
       "      <td>3.0</td>\n",
       "      <td>True</td>\n",
       "      <td>Red Bull Racing</td>\n",
       "      <td>0 days 00:44:47.890000</td>\n",
       "      <td>2023-03-03 11:59:50.777</td>\n",
       "      <td>1</td>\n",
       "      <td>NaN</td>\n",
       "      <td>False</td>\n",
       "      <td>NaN</td>\n",
       "      <td>False</td>\n",
       "      <td>False</td>\n",
       "      <td>1</td>\n",
       "      <td>Bahrain Grand Prix</td>\n",
       "      <td>Bahrain</td>\n",
       "      <td>FP1</td>\n",
       "      <td>2023-03-03 14:30:00+03:00</td>\n",
       "      <td>2023</td>\n",
       "      <td>7</td>\n",
       "      <td>2794.076</td>\n",
       "      <td>27.0</td>\n",
       "      <td>13.0</td>\n",
       "      <td>1017.2</td>\n",
       "      <td>False</td>\n",
       "      <td>40.3</td>\n",
       "      <td>347</td>\n",
       "      <td>2.2</td>\n",
       "    </tr>\n",
       "    <tr>\n",
       "      <th>8</th>\n",
       "      <td>3582.067</td>\n",
       "      <td>VER</td>\n",
       "      <td>1</td>\n",
       "      <td>NaN</td>\n",
       "      <td>9.0</td>\n",
       "      <td>4.0</td>\n",
       "      <td>0 days 00:57:38.783000</td>\n",
       "      <td>NaN</td>\n",
       "      <td>NaN</td>\n",
       "      <td>0 days 00:00:48.727000</td>\n",
       "      <td>0 days 00:00:29.491000</td>\n",
       "      <td>NaN</td>\n",
       "      <td>0 days 00:59:12.750000</td>\n",
       "      <td>0 days 00:59:42.108000</td>\n",
       "      <td>190.0</td>\n",
       "      <td>197.0</td>\n",
       "      <td>273.0</td>\n",
       "      <td>195.0</td>\n",
       "      <td>False</td>\n",
       "      <td>SOFT</td>\n",
       "      <td>4.0</td>\n",
       "      <td>False</td>\n",
       "      <td>Red Bull Racing</td>\n",
       "      <td>0 days 00:46:56.572000</td>\n",
       "      <td>2023-03-03 12:01:59.459</td>\n",
       "      <td>12</td>\n",
       "      <td>NaN</td>\n",
       "      <td>False</td>\n",
       "      <td>NaN</td>\n",
       "      <td>False</td>\n",
       "      <td>False</td>\n",
       "      <td>1</td>\n",
       "      <td>Bahrain Grand Prix</td>\n",
       "      <td>Bahrain</td>\n",
       "      <td>FP1</td>\n",
       "      <td>2023-03-03 14:30:00+03:00</td>\n",
       "      <td>2023</td>\n",
       "      <td>8</td>\n",
       "      <td>3574.077</td>\n",
       "      <td>26.8</td>\n",
       "      <td>12.0</td>\n",
       "      <td>1017.2</td>\n",
       "      <td>False</td>\n",
       "      <td>39.9</td>\n",
       "      <td>340</td>\n",
       "      <td>3.0</td>\n",
       "    </tr>\n",
       "    <tr>\n",
       "      <th>9</th>\n",
       "      <td>3679.967</td>\n",
       "      <td>VER</td>\n",
       "      <td>1</td>\n",
       "      <td>0 days 00:01:37.900000</td>\n",
       "      <td>10.0</td>\n",
       "      <td>4.0</td>\n",
       "      <td>NaN</td>\n",
       "      <td>NaN</td>\n",
       "      <td>0 days 00:00:31.366000</td>\n",
       "      <td>0 days 00:00:42.527000</td>\n",
       "      <td>0 days 00:00:24.007000</td>\n",
       "      <td>0 days 01:00:13.433000</td>\n",
       "      <td>0 days 01:00:55.960000</td>\n",
       "      <td>0 days 01:01:19.967000</td>\n",
       "      <td>228.0</td>\n",
       "      <td>245.0</td>\n",
       "      <td>273.0</td>\n",
       "      <td>286.0</td>\n",
       "      <td>False</td>\n",
       "      <td>SOFT</td>\n",
       "      <td>5.0</td>\n",
       "      <td>False</td>\n",
       "      <td>Red Bull Racing</td>\n",
       "      <td>0 days 00:59:42.067000</td>\n",
       "      <td>2023-03-03 12:14:44.954</td>\n",
       "      <td>1</td>\n",
       "      <td>NaN</td>\n",
       "      <td>False</td>\n",
       "      <td>NaN</td>\n",
       "      <td>False</td>\n",
       "      <td>True</td>\n",
       "      <td>1</td>\n",
       "      <td>Bahrain Grand Prix</td>\n",
       "      <td>Bahrain</td>\n",
       "      <td>FP1</td>\n",
       "      <td>2023-03-03 14:30:00+03:00</td>\n",
       "      <td>2023</td>\n",
       "      <td>9</td>\n",
       "      <td>3634.076</td>\n",
       "      <td>26.6</td>\n",
       "      <td>12.0</td>\n",
       "      <td>1017.2</td>\n",
       "      <td>False</td>\n",
       "      <td>39.9</td>\n",
       "      <td>340</td>\n",
       "      <td>3.0</td>\n",
       "    </tr>\n",
       "  </tbody>\n",
       "</table>\n",
       "</div>"
      ],
      "text/plain": [
       "       Time Driver  DriverNumber                 LapTime  LapNumber  Stint  \\\n",
       "0  1274.563    VER             1                     NaN        1.0    1.0   \n",
       "1  1369.992    VER             1  0 days 00:01:35.429000        2.0    1.0   \n",
       "2  1533.677    VER             1                     NaN        3.0    1.0   \n",
       "3  1699.697    VER             1                     NaN        4.0    2.0   \n",
       "4  1813.359    VER             1  0 days 00:01:53.662000        5.0    2.0   \n",
       "5  2594.515    VER             1                     NaN        6.0    3.0   \n",
       "6  2687.890    VER             1  0 days 00:01:33.375000        7.0    3.0   \n",
       "7  2816.572    VER             1  0 days 00:02:08.682000        8.0    3.0   \n",
       "8  3582.067    VER             1                     NaN        9.0    4.0   \n",
       "9  3679.967    VER             1  0 days 00:01:37.900000       10.0    4.0   \n",
       "\n",
       "               PitOutTime               PitInTime             Sector1Time  \\\n",
       "0  0 days 00:18:56.871000                     NaN                     NaN   \n",
       "1                     NaN                     NaN  0 days 00:00:30.535000   \n",
       "2                     NaN  0 days 00:25:31.880000  0 days 00:00:52.814000   \n",
       "3  0 days 00:25:58.707000                     NaN  0 days 00:01:09.699000   \n",
       "4                     NaN  0 days 00:30:11.531000  0 days 00:00:30.271000   \n",
       "5  0 days 00:40:46.535000                     NaN                     NaN   \n",
       "6                     NaN                     NaN  0 days 00:00:29.507000   \n",
       "7                     NaN  0 days 00:46:54.794000  0 days 00:00:38.151000   \n",
       "8  0 days 00:57:38.783000                     NaN                     NaN   \n",
       "9                     NaN                     NaN  0 days 00:00:31.366000   \n",
       "\n",
       "              Sector2Time             Sector3Time      Sector1SessionTime  \\\n",
       "0  0 days 00:01:09.383000  0 days 00:00:28.687000                     NaN   \n",
       "1  0 days 00:00:41.153000  0 days 00:00:23.741000  0 days 00:21:45.098000   \n",
       "2  0 days 00:01:12.105000  0 days 00:00:38.710000  0 days 00:23:43.022000   \n",
       "3  0 days 00:01:07.418000  0 days 00:00:28.889000  0 days 00:26:43.550000   \n",
       "4  0 days 00:00:55.102000  0 days 00:00:28.289000  0 days 00:28:49.968000   \n",
       "5  0 days 00:01:11.255000  0 days 00:00:34.098000                     NaN   \n",
       "6  0 days 00:00:40.148000  0 days 00:00:23.720000  0 days 00:43:44.022000   \n",
       "7  0 days 00:00:59.322000  0 days 00:00:31.209000  0 days 00:45:26.041000   \n",
       "8  0 days 00:00:48.727000  0 days 00:00:29.491000                     NaN   \n",
       "9  0 days 00:00:42.527000  0 days 00:00:24.007000  0 days 01:00:13.433000   \n",
       "\n",
       "       Sector2SessionTime      Sector3SessionTime  SpeedI1  SpeedI2  SpeedFL  \\\n",
       "0  0 days 00:20:46.104000  0 days 00:21:14.634000    106.0    157.0    280.0   \n",
       "1  0 days 00:22:26.251000  0 days 00:22:49.992000    235.0    265.0    280.0   \n",
       "2  0 days 00:24:54.990000  0 days 00:25:33.677000    124.0    127.0      NaN   \n",
       "3  0 days 00:27:50.877000  0 days 00:28:19.705000    138.0    192.0    282.0   \n",
       "4  0 days 00:29:45.070000  0 days 00:30:13.359000    233.0    228.0      NaN   \n",
       "5  0 days 00:42:40.564000  0 days 00:43:14.595000    149.0    177.0    284.0   \n",
       "6  0 days 00:44:24.170000  0 days 00:44:47.890000    238.0    267.0    284.0   \n",
       "7  0 days 00:46:25.363000  0 days 00:46:56.572000    158.0    174.0      NaN   \n",
       "8  0 days 00:59:12.750000  0 days 00:59:42.108000    190.0    197.0    273.0   \n",
       "9  0 days 01:00:55.960000  0 days 01:01:19.967000    228.0    245.0    273.0   \n",
       "\n",
       "   SpeedST IsPersonalBest Compound  TyreLife  FreshTyre             Team  \\\n",
       "0    187.0          False   MEDIUM       1.0       True  Red Bull Racing   \n",
       "1    314.0           True   MEDIUM       2.0       True  Red Bull Racing   \n",
       "2    148.0          False   MEDIUM       3.0       True  Red Bull Racing   \n",
       "3    144.0          False   MEDIUM       4.0      False  Red Bull Racing   \n",
       "4    316.0          False   MEDIUM       5.0      False  Red Bull Racing   \n",
       "5    175.0          False     SOFT       1.0       True  Red Bull Racing   \n",
       "6    317.0           True     SOFT       2.0       True  Red Bull Racing   \n",
       "7    214.0          False     SOFT       3.0       True  Red Bull Racing   \n",
       "8    195.0          False     SOFT       4.0      False  Red Bull Racing   \n",
       "9    286.0          False     SOFT       5.0      False  Red Bull Racing   \n",
       "\n",
       "             LapStartTime             LapStartDate  TrackStatus  Position  \\\n",
       "0  0 days 00:18:56.871000  2023-03-03 11:33:59.758            1       NaN   \n",
       "1  0 days 00:21:14.563000  2023-03-03 11:36:17.450            1       NaN   \n",
       "2  0 days 00:22:49.992000  2023-03-03 11:37:52.879            1       NaN   \n",
       "3  0 days 00:25:33.677000  2023-03-03 11:40:36.564            1       NaN   \n",
       "4  0 days 00:28:19.697000  2023-03-03 11:43:22.584            1       NaN   \n",
       "5  0 days 00:30:13.359000  2023-03-03 11:45:16.246            1       NaN   \n",
       "6  0 days 00:43:14.515000  2023-03-03 11:58:17.402            1       NaN   \n",
       "7  0 days 00:44:47.890000  2023-03-03 11:59:50.777            1       NaN   \n",
       "8  0 days 00:46:56.572000  2023-03-03 12:01:59.459           12       NaN   \n",
       "9  0 days 00:59:42.067000  2023-03-03 12:14:44.954            1       NaN   \n",
       "\n",
       "   Deleted DeletedReason  FastF1Generated  IsAccurate  RoundNumber  \\\n",
       "0    False           NaN            False       False            1   \n",
       "1    False           NaN            False        True            1   \n",
       "2    False           NaN            False       False            1   \n",
       "3    False           NaN            False       False            1   \n",
       "4    False           NaN            False       False            1   \n",
       "5    False           NaN            False       False            1   \n",
       "6    False           NaN            False        True            1   \n",
       "7    False           NaN            False       False            1   \n",
       "8    False           NaN            False       False            1   \n",
       "9    False           NaN            False        True            1   \n",
       "\n",
       "            EventName  country session                  EventDate  eventYear  \\\n",
       "0  Bahrain Grand Prix  Bahrain     FP1  2023-03-03 14:30:00+03:00       2023   \n",
       "1  Bahrain Grand Prix  Bahrain     FP1  2023-03-03 14:30:00+03:00       2023   \n",
       "2  Bahrain Grand Prix  Bahrain     FP1  2023-03-03 14:30:00+03:00       2023   \n",
       "3  Bahrain Grand Prix  Bahrain     FP1  2023-03-03 14:30:00+03:00       2023   \n",
       "4  Bahrain Grand Prix  Bahrain     FP1  2023-03-03 14:30:00+03:00       2023   \n",
       "5  Bahrain Grand Prix  Bahrain     FP1  2023-03-03 14:30:00+03:00       2023   \n",
       "6  Bahrain Grand Prix  Bahrain     FP1  2023-03-03 14:30:00+03:00       2023   \n",
       "7  Bahrain Grand Prix  Bahrain     FP1  2023-03-03 14:30:00+03:00       2023   \n",
       "8  Bahrain Grand Prix  Bahrain     FP1  2023-03-03 14:30:00+03:00       2023   \n",
       "9  Bahrain Grand Prix  Bahrain     FP1  2023-03-03 14:30:00+03:00       2023   \n",
       "\n",
       "   original_index  TimeWeather  AirTemp  Humidity  Pressure  Rainfall  \\\n",
       "0               0     1233.979     27.4      11.0    1017.2     False   \n",
       "1               1     1353.992     27.3      12.0    1017.4     False   \n",
       "2               2     1474.006     27.3      12.0    1017.2     False   \n",
       "3               3     1654.003     27.1      12.0    1017.4     False   \n",
       "4               4     1774.016     27.0      12.0    1017.2     False   \n",
       "5               5     2554.064     27.1      13.0    1017.2     False   \n",
       "6               6     2674.078     27.0      13.0    1017.2     False   \n",
       "7               7     2794.076     27.0      13.0    1017.2     False   \n",
       "8               8     3574.077     26.8      12.0    1017.2     False   \n",
       "9               9     3634.076     26.6      12.0    1017.2     False   \n",
       "\n",
       "   TrackTemp  WindDirection  WindSpeed  \n",
       "0       41.6            352        2.7  \n",
       "1       41.4            345        2.2  \n",
       "2       41.4            349        2.2  \n",
       "3       41.2            338        2.5  \n",
       "4       41.1             10        2.2  \n",
       "5       40.4            357        3.4  \n",
       "6       40.3             21        2.5  \n",
       "7       40.3            347        2.2  \n",
       "8       39.9            340        3.0  \n",
       "9       39.9            340        3.0  "
      ]
     },
     "execution_count": 2,
     "metadata": {},
     "output_type": "execute_result"
    }
   ],
   "source": [
    "data = pd.read_csv(\"dataset/dataset_original.csv\")\n",
    "pd.set_option('display.max_columns', None)\n",
    "data.head(10)"
   ]
  },
  {
   "cell_type": "code",
   "execution_count": 3,
   "id": "8ac4fe53",
   "metadata": {},
   "outputs": [
    {
     "data": {
      "text/plain": [
       "Index(['Time', 'Driver', 'DriverNumber', 'LapTime', 'LapNumber', 'Stint',\n",
       "       'PitOutTime', 'PitInTime', 'Sector1Time', 'Sector2Time', 'Sector3Time',\n",
       "       'Sector1SessionTime', 'Sector2SessionTime', 'Sector3SessionTime',\n",
       "       'SpeedI1', 'SpeedI2', 'SpeedFL', 'SpeedST', 'IsPersonalBest',\n",
       "       'Compound', 'TyreLife', 'FreshTyre', 'Team', 'LapStartTime',\n",
       "       'LapStartDate', 'TrackStatus', 'Position', 'Deleted', 'DeletedReason',\n",
       "       'FastF1Generated', 'IsAccurate', 'RoundNumber', 'EventName', 'country',\n",
       "       'session', 'EventDate', 'eventYear', 'original_index', 'TimeWeather',\n",
       "       'AirTemp', 'Humidity', 'Pressure', 'Rainfall', 'TrackTemp',\n",
       "       'WindDirection', 'WindSpeed'],\n",
       "      dtype='object')"
      ]
     },
     "execution_count": 3,
     "metadata": {},
     "output_type": "execute_result"
    }
   ],
   "source": [
    "data.columns"
   ]
  },
  {
   "cell_type": "code",
   "execution_count": 4,
   "id": "474763e2",
   "metadata": {},
   "outputs": [
    {
     "data": {
      "text/plain": [
       "46"
      ]
     },
     "execution_count": 4,
     "metadata": {},
     "output_type": "execute_result"
    }
   ],
   "source": [
    "len(data.columns)"
   ]
  },
  {
   "cell_type": "code",
   "execution_count": 5,
   "id": "5ef3893e",
   "metadata": {},
   "outputs": [
    {
     "data": {
      "text/plain": [
       "121534"
      ]
     },
     "execution_count": 5,
     "metadata": {},
     "output_type": "execute_result"
    }
   ],
   "source": [
    "len(data)"
   ]
  },
  {
   "cell_type": "markdown",
   "id": "f21f5bc0",
   "metadata": {},
   "source": [
    "---"
   ]
  },
  {
   "cell_type": "markdown",
   "id": "7c91b230",
   "metadata": {},
   "source": [
    "### Editing Columns and Rows\n",
    "\n",
    "Unnecessary columns are removed at the beginning, as they are not relevant to the project."
   ]
  },
  {
   "cell_type": "code",
   "execution_count": 6,
   "id": "273d30bd",
   "metadata": {},
   "outputs": [
    {
     "data": {
      "text/plain": [
       "28"
      ]
     },
     "execution_count": 6,
     "metadata": {},
     "output_type": "execute_result"
    }
   ],
   "source": [
    "data = data.drop(columns=['DriverNumber', 'Sector1Time', 'Sector2Time', 'Sector3Time','Sector1SessionTime', 'Sector2SessionTime', 'Sector3SessionTime',\n",
    "       'SpeedI1', 'SpeedI2', 'SpeedFL', 'SpeedST', 'IsPersonalBest', 'LapStartTime', 'LapStartDate', 'Position', 'DeletedReason', 'FastF1Generated', 'country'])\n",
    "len(data.columns)"
   ]
  },
  {
   "cell_type": "markdown",
   "id": "abc815c7",
   "metadata": {},
   "source": [
    "Some column names are edited."
   ]
  },
  {
   "cell_type": "code",
   "execution_count": 7,
   "id": "c046c3cc",
   "metadata": {},
   "outputs": [],
   "source": [
    "data = data.rename(columns={\n",
    "    'session': 'Session',\n",
    "    'eventYear': 'EventYear'\n",
    "})\n"
   ]
  },
  {
   "cell_type": "markdown",
   "id": "62cf4fe4",
   "metadata": {},
   "source": [
    "Adding the FuelLevel Column."
   ]
  },
  {
   "cell_type": "code",
   "execution_count": 8,
   "id": "c54cbe53",
   "metadata": {},
   "outputs": [],
   "source": [
    "def add_fuel_level(data):\n",
    "    def estimate_fuel(row, max_lap):\n",
    "        lap = row['LapNumber']\n",
    "        session = row['Session']\n",
    "\n",
    "        if session == 'Race':\n",
    "            starting_fuel = 100\n",
    "        elif session == 'Sprint':\n",
    "            starting_fuel = 50\n",
    "        else:\n",
    "            return 2 \n",
    "\n",
    "        fuel_per_lap = (starting_fuel - 1) / (max_lap - 1)\n",
    "        fuel = starting_fuel - (lap - 1) * fuel_per_lap\n",
    "        return round(fuel, 2)\n",
    "\n",
    "    data = data.copy()\n",
    "    data['FuelLevel'] = 2\n",
    "\n",
    "    race_mask = data['Session'].isin(['Race', 'Sprint'])\n",
    "    race_df = data[race_mask].copy()\n",
    "\n",
    "    total_laps = (\n",
    "        race_df\n",
    "        .groupby(['EventName', 'EventYear', 'Session'])['LapNumber']\n",
    "        .max()\n",
    "        .reset_index()\n",
    "        .rename(columns={'LapNumber': 'MaxLap'})\n",
    "    )\n",
    "\n",
    "    race_df = race_df.merge(total_laps, on=['EventName', 'EventYear', 'Session'], how='left')\n",
    "    race_df['FuelLevel'] = race_df.apply(lambda row: estimate_fuel(row, row['MaxLap']), axis=1)\n",
    "    data.loc[race_mask, 'FuelLevel'] = race_df['FuelLevel'].values\n",
    "\n",
    "    return data\n"
   ]
  },
  {
   "cell_type": "code",
   "execution_count": 9,
   "id": "8a7c43ec",
   "metadata": {},
   "outputs": [
    {
     "name": "stderr",
     "output_type": "stream",
     "text": [
      "C:\\Users\\Asus\\AppData\\Local\\Temp\\ipykernel_13072\\550523522.py:33: FutureWarning: Setting an item of incompatible dtype is deprecated and will raise an error in a future version of pandas. Value '[100.    98.23  96.46 ...   4.47   2.74   1.  ]' has dtype incompatible with int64, please explicitly cast to a compatible dtype first.\n",
      "  data.loc[race_mask, 'FuelLevel'] = race_df['FuelLevel'].values\n"
     ]
    }
   ],
   "source": [
    "data = add_fuel_level(data)\n"
   ]
  },
  {
   "cell_type": "code",
   "execution_count": 10,
   "id": "079df345",
   "metadata": {},
   "outputs": [
    {
     "data": {
      "text/plain": [
       "Index(['Time', 'Driver', 'LapTime', 'LapNumber', 'Stint', 'PitOutTime',\n",
       "       'PitInTime', 'Compound', 'TyreLife', 'FreshTyre', 'Team', 'TrackStatus',\n",
       "       'Deleted', 'IsAccurate', 'RoundNumber', 'EventName', 'Session',\n",
       "       'EventDate', 'EventYear', 'original_index', 'TimeWeather', 'AirTemp',\n",
       "       'Humidity', 'Pressure', 'Rainfall', 'TrackTemp', 'WindDirection',\n",
       "       'WindSpeed', 'FuelLevel'],\n",
       "      dtype='object')"
      ]
     },
     "execution_count": 10,
     "metadata": {},
     "output_type": "execute_result"
    }
   ],
   "source": [
    "data.columns"
   ]
  },
  {
   "cell_type": "markdown",
   "id": "4d015866",
   "metadata": {},
   "source": [
    "Rows marked as _IsAccurate = False were removed since they are not suitable for our objective.\n",
    "\n",
    "IsAccurate (bool) indicates that the lap start and end time are synced correctly with other laps. Do not confuse this with the accuracy of the lap time or sector times. They are always considered to be accurate if they exist! If this value is True, the lap has passed as basic accuracy check for timing data. This does not guarantee accuracy but laps marked as inaccurate need to be handled with caution. They might contain errors which can not be spotted easily. Laps need to satisfy the following criteria to be marked as accurate:\n",
    "\n",
    "- not an inlap or outlap;\n",
    "\n",
    "- set under green or yellow flag; \n",
    "\n",
    "- is not the first lap after a safety car period; \n",
    "\n",
    "- has a value for lap time and all sector times;\n",
    "\n",
    "- the sum of the sector times matches the lap time."
   ]
  },
  {
   "cell_type": "code",
   "execution_count": 11,
   "id": "6a4bc3b7",
   "metadata": {},
   "outputs": [
    {
     "name": "stdout",
     "output_type": "stream",
     "text": [
      "IsAccurate = True: 86843\n",
      "IsAccurate = False: 34691\n"
     ]
    }
   ],
   "source": [
    "count_true = data['IsAccurate'].sum()\n",
    "print(f\"IsAccurate = True: {count_true}\")\n",
    "print(f\"IsAccurate = False: {len(data) - count_true}\")"
   ]
  },
  {
   "cell_type": "code",
   "execution_count": 12,
   "id": "98fc8091",
   "metadata": {},
   "outputs": [],
   "source": [
    "data = data[data['IsAccurate']]\n"
   ]
  },
  {
   "cell_type": "code",
   "execution_count": 13,
   "id": "90f111b3",
   "metadata": {},
   "outputs": [],
   "source": [
    "data = data.drop(columns=['IsAccurate'])"
   ]
  },
  {
   "cell_type": "markdown",
   "id": "d322baf5",
   "metadata": {},
   "source": [
    "Since the values in _PitOutTime_ and _PitInTime_ are now empty, these columns can be removed."
   ]
  },
  {
   "cell_type": "code",
   "execution_count": 14,
   "id": "32e5c937",
   "metadata": {},
   "outputs": [
    {
     "name": "stdout",
     "output_type": "stream",
     "text": [
      "Values of PitOutTime: []\n",
      "Values of PitInTime: []\n"
     ]
    }
   ],
   "source": [
    "pit_out_values = data['PitOutTime'].dropna().unique().tolist()\n",
    "pit_in_values = data['PitInTime'].dropna().unique().tolist()\n",
    "\n",
    "print(\"Values of PitOutTime:\", pit_out_values)\n",
    "print(\"Values of PitInTime:\", pit_in_values)\n"
   ]
  },
  {
   "cell_type": "code",
   "execution_count": 15,
   "id": "2dd6a882",
   "metadata": {},
   "outputs": [],
   "source": [
    "data = data.drop(columns=['PitOutTime', 'PitInTime'])"
   ]
  },
  {
   "cell_type": "markdown",
   "id": "bda3ec1d",
   "metadata": {},
   "source": [
    "Checking for remaining null values and removing them if any."
   ]
  },
  {
   "cell_type": "code",
   "execution_count": 16,
   "id": "69fdd93a",
   "metadata": {},
   "outputs": [
    {
     "name": "stdout",
     "output_type": "stream",
     "text": [
      "Null values count:\n",
      "Stint       12\n",
      "Compound    12\n",
      "TyreLife    12\n",
      "dtype: int64\n"
     ]
    }
   ],
   "source": [
    "null_counts = data.isna().sum()\n",
    "null_counts = null_counts[null_counts > 0]\n",
    "\n",
    "if null_counts.empty:\n",
    "    print(\"No null values\")\n",
    "else:\n",
    "    print(\"Null values count:\")\n",
    "    print(null_counts)\n"
   ]
  },
  {
   "cell_type": "code",
   "execution_count": 17,
   "id": "422f1eb8",
   "metadata": {},
   "outputs": [],
   "source": [
    "null_rows = data[data['Stint'].isna() & data['Compound'].isna() & data['TyreLife'].isna()]\n",
    "data = data[~(data['Stint'].isna() & data['Compound'].isna() & data['TyreLife'].isna())]\n"
   ]
  },
  {
   "cell_type": "code",
   "execution_count": 18,
   "id": "8c43e4b8",
   "metadata": {},
   "outputs": [
    {
     "name": "stdout",
     "output_type": "stream",
     "text": [
      "No null values\n"
     ]
    }
   ],
   "source": [
    "null_counts = data.isna().sum()\n",
    "null_counts = null_counts[null_counts > 0]\n",
    "\n",
    "if null_counts.empty:\n",
    "    print(\"No null values\")\n",
    "else:\n",
    "    print(\"Null values count:\")\n",
    "    print(null_counts)\n"
   ]
  },
  {
   "cell_type": "markdown",
   "id": "38f92844",
   "metadata": {},
   "source": [
    "Converting _LapTime_ to seconds."
   ]
  },
  {
   "cell_type": "code",
   "execution_count": 19,
   "id": "e26ffec8",
   "metadata": {},
   "outputs": [],
   "source": [
    "data['LapTime'] = pd.to_timedelta(data['LapTime']).dt.total_seconds()"
   ]
  },
  {
   "cell_type": "markdown",
   "id": "e5e2766e",
   "metadata": {},
   "source": [
    "Removed unofficial drivers and excluded drivers with minimal participation."
   ]
  },
  {
   "cell_type": "code",
   "execution_count": 20,
   "id": "e52c7ab7",
   "metadata": {},
   "outputs": [
    {
     "name": "stdout",
     "output_type": "stream",
     "text": [
      "['ALB', 'ALO', 'ANT', 'BEA', 'BEG', 'BOT', 'BRO', 'COH', 'COL', 'DEN', 'DEV', 'DOO', 'DRU', 'FOR', 'GAS', 'GRA', 'HAD', 'HAM', 'HIR', 'HUL', 'IWA', 'LAW', 'LEC', 'LEL', 'MAG', 'MAN', 'MAR', 'MON', 'NOR', 'OCO', 'OSU', 'OWA', 'PER', 'PIA', 'POU', 'RIC', 'RUS', 'SAI', 'SAR', 'SHW', 'STR', 'TBA', 'TSU', 'VER', 'VES', 'VIL', 'ZHO']\n"
     ]
    }
   ],
   "source": [
    "drivers = data['Driver'].unique()\n",
    "print(sorted(drivers))\n"
   ]
  },
  {
   "cell_type": "code",
   "execution_count": 21,
   "id": "986d4722",
   "metadata": {},
   "outputs": [
    {
     "name": "stdout",
     "output_type": "stream",
     "text": [
      "['ALB', 'ALO', 'BEA', 'BOT', 'COL', 'DEV', 'DOO', 'GAS', 'HAM', 'HUL', 'LAW', 'LEC', 'MAG', 'NOR', 'OCO', 'PER', 'PIA', 'RIC', 'RUS', 'SAI', 'SAR', 'STR', 'TSU', 'VER', 'ZHO']\n"
     ]
    }
   ],
   "source": [
    "deleted_drivers = ['ANT', 'BEG', 'BRO', 'COH', 'DEN', 'DRU', 'FOR', 'GRA', 'HAD', 'HIR', 'IWA', 'LEL', 'MAN', 'MAR', 'MON', 'OSU', 'OWA', 'POU', 'SHW', 'TBA', 'VES', 'VIL']\n",
    "data = data[~data['Driver'].isin(deleted_drivers)]\n",
    "drivers = data['Driver'].unique()\n",
    "print(sorted(drivers))"
   ]
  },
  {
   "cell_type": "markdown",
   "id": "55542a44",
   "metadata": {},
   "source": [
    "Standardizing team names across seasons."
   ]
  },
  {
   "cell_type": "code",
   "execution_count": 22,
   "id": "9f369189",
   "metadata": {},
   "outputs": [
    {
     "name": "stdout",
     "output_type": "stream",
     "text": [
      "['Alfa Romeo', 'AlphaTauri', 'Alpine', 'Aston Martin', 'Ferrari', 'Haas F1 Team', 'Kick Sauber', 'McLaren', 'Mercedes', 'RB', 'Red Bull Racing', 'Williams']\n"
     ]
    }
   ],
   "source": [
    "cars = data['Team'].unique()\n",
    "print(sorted(cars))"
   ]
  },
  {
   "cell_type": "code",
   "execution_count": 23,
   "id": "c08ab3e3",
   "metadata": {},
   "outputs": [
    {
     "name": "stdout",
     "output_type": "stream",
     "text": [
      "['Alpine', 'Aston Martin', 'Ferrari', 'Haas F1 Team', 'Kick Sauber', 'McLaren', 'Mercedes', 'RB', 'Red Bull Racing', 'Williams']\n"
     ]
    }
   ],
   "source": [
    "data['Team'] = data['Team'].astype(str)\n",
    "data['Team'] = data['Team'].replace({\n",
    "    'Alfa Romeo': 'Kick Sauber',\n",
    "    'AlphaTauri': 'RB'\n",
    "})\n",
    "\n",
    "cars = data['Team'].unique()\n",
    "print(sorted(cars))\n"
   ]
  },
  {
   "cell_type": "markdown",
   "id": "19bb6cba",
   "metadata": {},
   "source": [
    "Removing non‑official tyre compounds."
   ]
  },
  {
   "cell_type": "code",
   "execution_count": 24,
   "id": "a35a1f96",
   "metadata": {},
   "outputs": [
    {
     "name": "stdout",
     "output_type": "stream",
     "text": [
      "['HARD', 'INTERMEDIATE', 'MEDIUM', 'SOFT', 'TEST_UNKNOWN', 'UNKNOWN', 'WET']\n"
     ]
    }
   ],
   "source": [
    "compounds = data['Compound'].unique()\n",
    "print(sorted(compounds))"
   ]
  },
  {
   "cell_type": "code",
   "execution_count": 25,
   "id": "d2a7e222",
   "metadata": {},
   "outputs": [
    {
     "name": "stdout",
     "output_type": "stream",
     "text": [
      "['HARD', 'INTERMEDIATE', 'MEDIUM', 'SOFT', 'WET']\n"
     ]
    }
   ],
   "source": [
    "deleted_compounds = ['TEST_UNKNOWN', 'UNKNOWN']\n",
    "data = data[~data['Compound'].isin(deleted_compounds)]\n",
    "compounds = data['Compound'].unique()\n",
    "print(sorted(compounds))"
   ]
  },
  {
   "cell_type": "markdown",
   "id": "6a55113c",
   "metadata": {},
   "source": [
    "Removing laps under yellow flag conditions."
   ]
  },
  {
   "cell_type": "code",
   "execution_count": 26,
   "id": "edbaebc2",
   "metadata": {},
   "outputs": [
    {
     "name": "stdout",
     "output_type": "stream",
     "text": [
      "[ 1 12 21  2]\n"
     ]
    }
   ],
   "source": [
    "status = data['TrackStatus'].unique()\n",
    "print(status)\n"
   ]
  },
  {
   "cell_type": "code",
   "execution_count": 27,
   "id": "f6b23d71",
   "metadata": {},
   "outputs": [],
   "source": [
    "data = data[data['TrackStatus'] == 1]\n",
    "data = data.drop(columns=['TrackStatus'])"
   ]
  },
  {
   "cell_type": "markdown",
   "id": "6976cf2d",
   "metadata": {},
   "source": [
    "Removing free practice sessions."
   ]
  },
  {
   "cell_type": "code",
   "execution_count": 28,
   "id": "98c8c57f",
   "metadata": {},
   "outputs": [],
   "source": [
    "deleted_sessions = ['FP1', 'FP2', 'FP3']\n",
    "data = data[~data['Session'].isin(deleted_sessions)]"
   ]
  },
  {
   "cell_type": "markdown",
   "id": "89a21724",
   "metadata": {},
   "source": [
    "Removing warm‑up laps in qualifying sessions."
   ]
  },
  {
   "cell_type": "code",
   "execution_count": 29,
   "id": "5796ea1e",
   "metadata": {},
   "outputs": [
    {
     "name": "stderr",
     "output_type": "stream",
     "text": [
      "C:\\Users\\Asus\\AppData\\Local\\Temp\\ipykernel_13072\\1572266206.py:9: DeprecationWarning: DataFrameGroupBy.apply operated on the grouping columns. This behavior is deprecated, and in a future version of pandas the grouping columns will be excluded from the operation. Either pass `include_groups=False` to exclude the groupings or explicitly select the grouping columns after groupby to silence this warning.\n",
      "  ).apply(filter_valid_indices).explode().astype(int)\n"
     ]
    }
   ],
   "source": [
    "valid_sessions = data[data['Session'].isin(['Qualifying', 'SQ'])]\n",
    "\n",
    "def filter_valid_indices(group):\n",
    "    best_time = group['LapTime'].min()\n",
    "    return group[group['LapTime'] <= best_time + 5.0].index\n",
    "\n",
    "valid_indices = valid_sessions.groupby(\n",
    "    ['EventName', 'EventYear', 'Session', 'Driver']\n",
    ").apply(filter_valid_indices).explode().astype(int)\n",
    "\n",
    "all_indices = valid_sessions.index\n",
    "indices_to_remove = all_indices.difference(valid_indices)\n",
    "data = data.drop(index=indices_to_remove)\n"
   ]
  },
  {
   "cell_type": "markdown",
   "id": "3dcb26c4",
   "metadata": {},
   "source": [
    "Removing other unnecessary columns"
   ]
  },
  {
   "cell_type": "code",
   "execution_count": 30,
   "id": "a4b8bfaa",
   "metadata": {},
   "outputs": [],
   "source": [
    "data = data.drop(columns=['Deleted', 'EventDate', 'original_index', 'Time', 'Stint', 'RoundNumber', 'TimeWeather'])"
   ]
  },
  {
   "cell_type": "markdown",
   "id": "1231be0b",
   "metadata": {},
   "source": [
    "---"
   ]
  },
  {
   "cell_type": "markdown",
   "id": "6f420f3d",
   "metadata": {},
   "source": [
    "### Dataset Export"
   ]
  },
  {
   "cell_type": "code",
   "execution_count": 31,
   "id": "b3ebd416",
   "metadata": {},
   "outputs": [
    {
     "data": {
      "text/html": [
       "<div>\n",
       "<style scoped>\n",
       "    .dataframe tbody tr th:only-of-type {\n",
       "        vertical-align: middle;\n",
       "    }\n",
       "\n",
       "    .dataframe tbody tr th {\n",
       "        vertical-align: top;\n",
       "    }\n",
       "\n",
       "    .dataframe thead th {\n",
       "        text-align: right;\n",
       "    }\n",
       "</style>\n",
       "<table border=\"1\" class=\"dataframe\">\n",
       "  <thead>\n",
       "    <tr style=\"text-align: right;\">\n",
       "      <th></th>\n",
       "      <th>Driver</th>\n",
       "      <th>LapTime</th>\n",
       "      <th>LapNumber</th>\n",
       "      <th>Compound</th>\n",
       "      <th>TyreLife</th>\n",
       "      <th>FreshTyre</th>\n",
       "      <th>Team</th>\n",
       "      <th>EventName</th>\n",
       "      <th>Session</th>\n",
       "      <th>EventYear</th>\n",
       "      <th>AirTemp</th>\n",
       "      <th>Humidity</th>\n",
       "      <th>Pressure</th>\n",
       "      <th>Rainfall</th>\n",
       "      <th>TrackTemp</th>\n",
       "      <th>WindDirection</th>\n",
       "      <th>WindSpeed</th>\n",
       "      <th>FuelLevel</th>\n",
       "    </tr>\n",
       "  </thead>\n",
       "  <tbody>\n",
       "    <tr>\n",
       "      <th>1248</th>\n",
       "      <td>VER</td>\n",
       "      <td>91.295</td>\n",
       "      <td>3.0</td>\n",
       "      <td>SOFT</td>\n",
       "      <td>3.0</td>\n",
       "      <td>False</td>\n",
       "      <td>Red Bull Racing</td>\n",
       "      <td>Bahrain Grand Prix</td>\n",
       "      <td>Qualifying</td>\n",
       "      <td>2023</td>\n",
       "      <td>24.2</td>\n",
       "      <td>16.0</td>\n",
       "      <td>1017.5</td>\n",
       "      <td>False</td>\n",
       "      <td>28.7</td>\n",
       "      <td>352</td>\n",
       "      <td>0.6</td>\n",
       "      <td>2.0</td>\n",
       "    </tr>\n",
       "    <tr>\n",
       "      <th>1253</th>\n",
       "      <td>VER</td>\n",
       "      <td>90.503</td>\n",
       "      <td>8.0</td>\n",
       "      <td>SOFT</td>\n",
       "      <td>2.0</td>\n",
       "      <td>True</td>\n",
       "      <td>Red Bull Racing</td>\n",
       "      <td>Bahrain Grand Prix</td>\n",
       "      <td>Qualifying</td>\n",
       "      <td>2023</td>\n",
       "      <td>23.8</td>\n",
       "      <td>20.0</td>\n",
       "      <td>1017.7</td>\n",
       "      <td>False</td>\n",
       "      <td>27.8</td>\n",
       "      <td>342</td>\n",
       "      <td>0.5</td>\n",
       "      <td>2.0</td>\n",
       "    </tr>\n",
       "    <tr>\n",
       "      <th>1256</th>\n",
       "      <td>VER</td>\n",
       "      <td>89.897</td>\n",
       "      <td>11.0</td>\n",
       "      <td>SOFT</td>\n",
       "      <td>2.0</td>\n",
       "      <td>True</td>\n",
       "      <td>Red Bull Racing</td>\n",
       "      <td>Bahrain Grand Prix</td>\n",
       "      <td>Qualifying</td>\n",
       "      <td>2023</td>\n",
       "      <td>23.1</td>\n",
       "      <td>31.0</td>\n",
       "      <td>1017.7</td>\n",
       "      <td>False</td>\n",
       "      <td>26.9</td>\n",
       "      <td>338</td>\n",
       "      <td>1.3</td>\n",
       "      <td>2.0</td>\n",
       "    </tr>\n",
       "    <tr>\n",
       "      <th>1259</th>\n",
       "      <td>VER</td>\n",
       "      <td>89.708</td>\n",
       "      <td>14.0</td>\n",
       "      <td>SOFT</td>\n",
       "      <td>2.0</td>\n",
       "      <td>False</td>\n",
       "      <td>Red Bull Racing</td>\n",
       "      <td>Bahrain Grand Prix</td>\n",
       "      <td>Qualifying</td>\n",
       "      <td>2023</td>\n",
       "      <td>23.0</td>\n",
       "      <td>33.0</td>\n",
       "      <td>1017.9</td>\n",
       "      <td>False</td>\n",
       "      <td>26.6</td>\n",
       "      <td>329</td>\n",
       "      <td>0.8</td>\n",
       "      <td>2.0</td>\n",
       "    </tr>\n",
       "    <tr>\n",
       "      <th>1263</th>\n",
       "      <td>PER</td>\n",
       "      <td>91.479</td>\n",
       "      <td>3.0</td>\n",
       "      <td>SOFT</td>\n",
       "      <td>3.0</td>\n",
       "      <td>False</td>\n",
       "      <td>Red Bull Racing</td>\n",
       "      <td>Bahrain Grand Prix</td>\n",
       "      <td>Qualifying</td>\n",
       "      <td>2023</td>\n",
       "      <td>24.3</td>\n",
       "      <td>16.0</td>\n",
       "      <td>1017.5</td>\n",
       "      <td>False</td>\n",
       "      <td>28.7</td>\n",
       "      <td>333</td>\n",
       "      <td>0.4</td>\n",
       "      <td>2.0</td>\n",
       "    </tr>\n",
       "    <tr>\n",
       "      <th>1268</th>\n",
       "      <td>PER</td>\n",
       "      <td>90.746</td>\n",
       "      <td>8.0</td>\n",
       "      <td>SOFT</td>\n",
       "      <td>2.0</td>\n",
       "      <td>True</td>\n",
       "      <td>Red Bull Racing</td>\n",
       "      <td>Bahrain Grand Prix</td>\n",
       "      <td>Qualifying</td>\n",
       "      <td>2023</td>\n",
       "      <td>23.8</td>\n",
       "      <td>20.0</td>\n",
       "      <td>1017.7</td>\n",
       "      <td>False</td>\n",
       "      <td>27.8</td>\n",
       "      <td>342</td>\n",
       "      <td>0.5</td>\n",
       "      <td>2.0</td>\n",
       "    </tr>\n",
       "    <tr>\n",
       "      <th>1271</th>\n",
       "      <td>PER</td>\n",
       "      <td>90.131</td>\n",
       "      <td>11.0</td>\n",
       "      <td>SOFT</td>\n",
       "      <td>2.0</td>\n",
       "      <td>True</td>\n",
       "      <td>Red Bull Racing</td>\n",
       "      <td>Bahrain Grand Prix</td>\n",
       "      <td>Qualifying</td>\n",
       "      <td>2023</td>\n",
       "      <td>23.1</td>\n",
       "      <td>31.0</td>\n",
       "      <td>1017.7</td>\n",
       "      <td>False</td>\n",
       "      <td>26.9</td>\n",
       "      <td>338</td>\n",
       "      <td>1.3</td>\n",
       "      <td>2.0</td>\n",
       "    </tr>\n",
       "    <tr>\n",
       "      <th>1274</th>\n",
       "      <td>PER</td>\n",
       "      <td>89.846</td>\n",
       "      <td>14.0</td>\n",
       "      <td>SOFT</td>\n",
       "      <td>2.0</td>\n",
       "      <td>False</td>\n",
       "      <td>Red Bull Racing</td>\n",
       "      <td>Bahrain Grand Prix</td>\n",
       "      <td>Qualifying</td>\n",
       "      <td>2023</td>\n",
       "      <td>23.0</td>\n",
       "      <td>33.0</td>\n",
       "      <td>1017.9</td>\n",
       "      <td>False</td>\n",
       "      <td>26.6</td>\n",
       "      <td>329</td>\n",
       "      <td>0.8</td>\n",
       "      <td>2.0</td>\n",
       "    </tr>\n",
       "    <tr>\n",
       "      <th>1280</th>\n",
       "      <td>LEC</td>\n",
       "      <td>91.094</td>\n",
       "      <td>5.0</td>\n",
       "      <td>SOFT</td>\n",
       "      <td>2.0</td>\n",
       "      <td>True</td>\n",
       "      <td>Ferrari</td>\n",
       "      <td>Bahrain Grand Prix</td>\n",
       "      <td>Qualifying</td>\n",
       "      <td>2023</td>\n",
       "      <td>24.2</td>\n",
       "      <td>16.0</td>\n",
       "      <td>1017.5</td>\n",
       "      <td>False</td>\n",
       "      <td>28.7</td>\n",
       "      <td>352</td>\n",
       "      <td>0.6</td>\n",
       "      <td>2.0</td>\n",
       "    </tr>\n",
       "    <tr>\n",
       "      <th>1285</th>\n",
       "      <td>LEC</td>\n",
       "      <td>91.699</td>\n",
       "      <td>10.0</td>\n",
       "      <td>SOFT</td>\n",
       "      <td>7.0</td>\n",
       "      <td>False</td>\n",
       "      <td>Ferrari</td>\n",
       "      <td>Bahrain Grand Prix</td>\n",
       "      <td>Qualifying</td>\n",
       "      <td>2023</td>\n",
       "      <td>23.8</td>\n",
       "      <td>20.0</td>\n",
       "      <td>1017.7</td>\n",
       "      <td>False</td>\n",
       "      <td>27.8</td>\n",
       "      <td>342</td>\n",
       "      <td>0.5</td>\n",
       "      <td>2.0</td>\n",
       "    </tr>\n",
       "  </tbody>\n",
       "</table>\n",
       "</div>"
      ],
      "text/plain": [
       "     Driver  LapTime  LapNumber Compound  TyreLife  FreshTyre  \\\n",
       "1248    VER   91.295        3.0     SOFT       3.0      False   \n",
       "1253    VER   90.503        8.0     SOFT       2.0       True   \n",
       "1256    VER   89.897       11.0     SOFT       2.0       True   \n",
       "1259    VER   89.708       14.0     SOFT       2.0      False   \n",
       "1263    PER   91.479        3.0     SOFT       3.0      False   \n",
       "1268    PER   90.746        8.0     SOFT       2.0       True   \n",
       "1271    PER   90.131       11.0     SOFT       2.0       True   \n",
       "1274    PER   89.846       14.0     SOFT       2.0      False   \n",
       "1280    LEC   91.094        5.0     SOFT       2.0       True   \n",
       "1285    LEC   91.699       10.0     SOFT       7.0      False   \n",
       "\n",
       "                 Team           EventName     Session  EventYear  AirTemp  \\\n",
       "1248  Red Bull Racing  Bahrain Grand Prix  Qualifying       2023     24.2   \n",
       "1253  Red Bull Racing  Bahrain Grand Prix  Qualifying       2023     23.8   \n",
       "1256  Red Bull Racing  Bahrain Grand Prix  Qualifying       2023     23.1   \n",
       "1259  Red Bull Racing  Bahrain Grand Prix  Qualifying       2023     23.0   \n",
       "1263  Red Bull Racing  Bahrain Grand Prix  Qualifying       2023     24.3   \n",
       "1268  Red Bull Racing  Bahrain Grand Prix  Qualifying       2023     23.8   \n",
       "1271  Red Bull Racing  Bahrain Grand Prix  Qualifying       2023     23.1   \n",
       "1274  Red Bull Racing  Bahrain Grand Prix  Qualifying       2023     23.0   \n",
       "1280          Ferrari  Bahrain Grand Prix  Qualifying       2023     24.2   \n",
       "1285          Ferrari  Bahrain Grand Prix  Qualifying       2023     23.8   \n",
       "\n",
       "      Humidity  Pressure  Rainfall  TrackTemp  WindDirection  WindSpeed  \\\n",
       "1248      16.0    1017.5     False       28.7            352        0.6   \n",
       "1253      20.0    1017.7     False       27.8            342        0.5   \n",
       "1256      31.0    1017.7     False       26.9            338        1.3   \n",
       "1259      33.0    1017.9     False       26.6            329        0.8   \n",
       "1263      16.0    1017.5     False       28.7            333        0.4   \n",
       "1268      20.0    1017.7     False       27.8            342        0.5   \n",
       "1271      31.0    1017.7     False       26.9            338        1.3   \n",
       "1274      33.0    1017.9     False       26.6            329        0.8   \n",
       "1280      16.0    1017.5     False       28.7            352        0.6   \n",
       "1285      20.0    1017.7     False       27.8            342        0.5   \n",
       "\n",
       "      FuelLevel  \n",
       "1248        2.0  \n",
       "1253        2.0  \n",
       "1256        2.0  \n",
       "1259        2.0  \n",
       "1263        2.0  \n",
       "1268        2.0  \n",
       "1271        2.0  \n",
       "1274        2.0  \n",
       "1280        2.0  \n",
       "1285        2.0  "
      ]
     },
     "execution_count": 31,
     "metadata": {},
     "output_type": "execute_result"
    }
   ],
   "source": [
    "data.head(10)"
   ]
  },
  {
   "cell_type": "code",
   "execution_count": 37,
   "id": "2c552a6b",
   "metadata": {},
   "outputs": [],
   "source": [
    "data.to_csv(\"dataset/dataset_final.csv\", index=False)"
   ]
  },
  {
   "cell_type": "code",
   "execution_count": 34,
   "id": "32e97f04",
   "metadata": {},
   "outputs": [
    {
     "data": {
      "text/plain": [
       "Index(['Driver', 'LapTime', 'LapNumber', 'Compound', 'TyreLife', 'FreshTyre',\n",
       "       'Team', 'EventName', 'Session', 'EventYear', 'AirTemp', 'Humidity',\n",
       "       'Pressure', 'Rainfall', 'TrackTemp', 'WindDirection', 'WindSpeed',\n",
       "       'FuelLevel'],\n",
       "      dtype='object')"
      ]
     },
     "execution_count": 34,
     "metadata": {},
     "output_type": "execute_result"
    }
   ],
   "source": [
    "data.columns"
   ]
  },
  {
   "cell_type": "code",
   "execution_count": 35,
   "id": "5e93857e",
   "metadata": {},
   "outputs": [
    {
     "data": {
      "text/plain": [
       "52160"
      ]
     },
     "execution_count": 35,
     "metadata": {},
     "output_type": "execute_result"
    }
   ],
   "source": [
    "len(data)"
   ]
  }
 ],
 "metadata": {
  "kernelspec": {
   "display_name": "ml-env",
   "language": "python",
   "name": "python3"
  },
  "language_info": {
   "codemirror_mode": {
    "name": "ipython",
    "version": 3
   },
   "file_extension": ".py",
   "mimetype": "text/x-python",
   "name": "python",
   "nbconvert_exporter": "python",
   "pygments_lexer": "ipython3",
   "version": "3.13.2"
  }
 },
 "nbformat": 4,
 "nbformat_minor": 5
}
